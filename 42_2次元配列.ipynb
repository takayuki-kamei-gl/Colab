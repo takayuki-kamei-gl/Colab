{
  "nbformat": 4,
  "nbformat_minor": 0,
  "metadata": {
    "colab": {
      "provenance": [],
      "authorship_tag": "ABX9TyOAN0O9VnXxMl4P0AD8U+EW",
      "include_colab_link": true
    },
    "kernelspec": {
      "name": "python3",
      "display_name": "Python 3"
    },
    "language_info": {
      "name": "python"
    }
  },
  "cells": [
    {
      "cell_type": "markdown",
      "metadata": {
        "id": "view-in-github",
        "colab_type": "text"
      },
      "source": [
        "<a href=\"https://colab.research.google.com/github/takayuki-kamei-gl/Colab/blob/main/42_2%E6%AC%A1%E5%85%83%E9%85%8D%E5%88%97.ipynb\" target=\"_parent\"><img src=\"https://colab.research.google.com/assets/colab-badge.svg\" alt=\"Open In Colab\"/></a>"
      ]
    },
    {
      "cell_type": "markdown",
      "source": [
        "問２"
      ],
      "metadata": {
        "id": "-jio17JQYdAm"
      }
    },
    {
      "cell_type": "code",
      "source": [
        "import random\n",
        "\n",
        "def seibetsu():\n",
        "    return random.randint(1,2)"
      ],
      "metadata": {
        "id": "9sHRy18VYiUo"
      },
      "execution_count": null,
      "outputs": []
    },
    {
      "cell_type": "code",
      "execution_count": null,
      "metadata": {
        "id": "e0a5Rx4WlQIf"
      },
      "outputs": [],
      "source": [
        "kazoku_no = 100000\n",
        "Pet = [[0] * 2 for _ in range(kazoku_no)] #初期化しないとERROR\n",
        "for i in range(kazoku_no):\n",
        "    Pet[i][0] = seibetsu()\n",
        "    Pet[i][1] = seibetsu()"
      ]
    },
    {
      "cell_type": "markdown",
      "source": [
        "問３"
      ],
      "metadata": {
        "id": "h9CVwgcEtwFf"
      }
    },
    {
      "cell_type": "markdown",
      "source": [],
      "metadata": {
        "id": "O94VAdAPvj-d"
      }
    },
    {
      "cell_type": "markdown",
      "source": [
        "図２　ペットの１匹がメスだった場合に２匹ともメスである確率を表示"
      ],
      "metadata": {
        "id": "PQMxegiyvXQU"
      }
    },
    {
      "cell_type": "code",
      "source": [
        "kazokusu_f = 0  # 条件（１匹がメス）に当てはまる家族の数\n",
        "kazokusu_f2 = 0 # 条件に当てはまる家族のうち、２匹ともメスである家族の数\n",
        "kazokusu_f1 = 0 # 条件に当てはまる家族のうち、１匹がメスである家族の数\n",
        "for i in range(kazoku_no):\n",
        "    if Pet[i][0] == 2 or Pet[i][1] == 2:    # ペットの１匹がメスだった場合\n",
        "        kazokusu_f = kazokusu_f + 1\n",
        "        if Pet[i][0] == 2 and Pet[i][1] == 2:\n",
        "            kazokusu_f2 = kazokusu_f2 + 1\n",
        "        else:\n",
        "            kazokusu_f1 = kazokusu_f1 + 1\n",
        "print(kazokusu_f2/kazokusu_f)"
      ],
      "metadata": {
        "colab": {
          "base_uri": "https://localhost:8080/"
        },
        "id": "_MyCRxm-tt2L",
        "outputId": "ea477789-59c9-43e9-d5ab-acb4e0694e91"
      },
      "execution_count": null,
      "outputs": [
        {
          "output_type": "stream",
          "name": "stdout",
          "text": [
            "0.33419675283059175\n"
          ]
        }
      ]
    },
    {
      "cell_type": "markdown",
      "source": [
        "図３　最初に飼い始めたペットがメスだった場合に２匹ともメスである確率を表示"
      ],
      "metadata": {
        "id": "pvmWAF_wvk9H"
      }
    },
    {
      "cell_type": "code",
      "source": [
        "kazokusu_f = 0  # 条件（１匹がメス）に当てはまる家族の数\n",
        "kazokusu_f2 = 0 # 条件に当てはまる家族のうち、２匹ともメスである家族の数\n",
        "kazokusu_f1 = 0 # 条件に当てはまる家族のうち、１匹がメスである家族の数\n",
        "for i in range(kazoku_no):\n",
        "    if Pet[i][0] == 2:                      # 最初に飼い始めたペットがメスだった場合\n",
        "        kazokusu_f = kazokusu_f + 1\n",
        "        if Pet[i][0] == 2 and Pet[i][1] == 2:\n",
        "            kazokusu_f2 = kazokusu_f2 + 1\n",
        "        else:\n",
        "            kazokusu_f1 = kazokusu_f1 + 1\n",
        "print(kazokusu_f2/kazokusu_f)"
      ],
      "metadata": {
        "colab": {
          "base_uri": "https://localhost:8080/"
        },
        "id": "4C25mGlww3VT",
        "outputId": "fc6ec602-34be-43a3-c0d5-834b918875d4"
      },
      "execution_count": null,
      "outputs": [
        {
          "output_type": "stream",
          "name": "stdout",
          "text": [
            "0.501462515526706\n"
          ]
        }
      ]
    },
    {
      "cell_type": "markdown",
      "source": [
        "問４"
      ],
      "metadata": {
        "id": "2azc-fn90Ar0"
      }
    },
    {
      "cell_type": "code",
      "source": [
        "import random\n",
        "\n",
        "def seibe2():\n",
        "    s = random.randint(1,2)\n",
        "    if s == 1:      #オス\n",
        "        return 1\n",
        "    else:\n",
        "        t = random.randint(1,1000)\n",
        "        if t != 1:  #ツナ子以外\n",
        "            return 2\n",
        "        else:       #ツナ子\n",
        "            return 3\n",
        "\n",
        "kazoku_no = 100000\n",
        "Pet = [[0] * 2 for _ in range(kazoku_no)] #初期化しないとERROR\n",
        "for i in range(kazoku_no):\n",
        "    Pet[i][0] = seibe2() # 1匹目も2匹目もツナ子の場合がある、、、ということは置いといて(笑)\n",
        "    Pet[i][1] = seibe2()\n",
        "\n",
        "kazokusu_f = 0  # 条件（１匹がツナ子という名前のメス）に当てはまる家族の数\n",
        "kazokusu_f2 = 0 # 条件に当てはまる家族のうち、２匹ともメスである家族の数\n",
        "kazokusu_f1 = 0 # 条件に当てはまる家族のうち、１匹がメスである家族の数\n",
        "for i in range(kazoku_no):\n",
        "    if Pet[i][0] == 3 or Pet[i][1] == 3:\n",
        "        kazokusu_f = kazokusu_f + 1\n",
        "        if Pet[i][0] >= 2 and Pet[i][1] >= 2:\n",
        "            kazokusu_f2 = kazokusu_f2 + 1\n",
        "        else:\n",
        "            kazokusu_f1 = kazokusu_f1 + 1\n",
        "print(kazokusu_f2/kazokusu_f)"
      ],
      "metadata": {
        "colab": {
          "base_uri": "https://localhost:8080/"
        },
        "id": "BiHTiyP0w6HA",
        "outputId": "7512fb4a-70f3-4638-e3cd-316ecc1de3bc"
      },
      "execution_count": null,
      "outputs": [
        {
          "output_type": "stream",
          "name": "stdout",
          "text": [
            "0.5053763440860215\n"
          ]
        }
      ]
    },
    {
      "cell_type": "markdown",
      "source": [
        "数学的な説明はできますか？\n",
        "\n",
        "WBを使ってディスカッションしてみよう。"
      ],
      "metadata": {
        "id": "uqaxCiRFx57s"
      }
    }
  ]
}