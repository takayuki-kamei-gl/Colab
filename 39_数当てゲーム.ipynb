{
  "nbformat": 4,
  "nbformat_minor": 0,
  "metadata": {
    "colab": {
      "provenance": [],
      "authorship_tag": "ABX9TyOhn9/C9ytPN4ryd4ahH7e9",
      "include_colab_link": true
    },
    "kernelspec": {
      "name": "python3",
      "display_name": "Python 3"
    },
    "language_info": {
      "name": "python"
    }
  },
  "cells": [
    {
      "cell_type": "markdown",
      "metadata": {
        "id": "view-in-github",
        "colab_type": "text"
      },
      "source": [
        "<a href=\"https://colab.research.google.com/github/takayuki-kamei-gl/Colab/blob/main/39_%E6%95%B0%E5%BD%93%E3%81%A6%E3%82%B2%E3%83%BC%E3%83%A0.ipynb\" target=\"_parent\"><img src=\"https://colab.research.google.com/assets/colab-badge.svg\" alt=\"Open In Colab\"/></a>"
      ]
    },
    {
      "cell_type": "code",
      "execution_count": null,
      "metadata": {
        "id": "1Wcp_IvTLHng"
      },
      "outputs": [],
      "source": [
        "# 43ページ\n",
        "import random\n",
        "\n",
        "a = random.randint(1,100)\n",
        "flag = 1\n",
        "i = 0\n",
        "print(a) # 検証のため追加\n",
        "while flag == 1:\n",
        "    i = i + 1\n",
        "    b = int(input()) #【外部から数値を入力】\n",
        "    if a == b:\n",
        "        flag = 0\n",
        "        print(i, \"回目で当たり!\")\n",
        "    elif i >= 10:\n",
        "        flag = 0\n",
        "        print(\"あなたの負け\")"
      ]
    },
    {
      "cell_type": "code",
      "source": [
        "# 修正後 44ページ\n",
        "import random\n",
        "\n",
        "a = random.randint(1,100)\n",
        "flag = 1\n",
        "i = 0\n",
        "print(a) # 検証のため追加\n",
        "while flag == 1:\n",
        "    i = i + 1\n",
        "    b = int(input())\n",
        "    if a == b:\n",
        "        flag = 0\n",
        "        print(i, \"回目で当たり!\")\n",
        "    elif i >= 10: # ここに来るということは (a!=b かつ) i>=10\n",
        "        flag = 0\n",
        "        print(\"あなたの負け\")\n",
        "    else:         # ここに来るということは (a!=b かつ) i<10\n",
        "        if a > b:\n",
        "            print(\"もっと大きい数です\")\n",
        "        else:\n",
        "            print(\"もっと小さい数です\")"
      ],
      "metadata": {
        "id": "_KYhkjS5Nw7-"
      },
      "execution_count": null,
      "outputs": []
    },
    {
      "cell_type": "markdown",
      "source": [
        "上のプログラム（PDFのオリジナル）はwhileの中の条件分岐が同じ条件で分岐されておらずコメントで書いてあることが暗に示されている。後で読む人にとっては優しくない。（と私は思う）\n",
        "\n",
        "で、丁寧に書くならば以下のようになるが、今度は長くなって入れ子が多くなってしまう。どちらを優先するか状況次第です。"
      ],
      "metadata": {
        "id": "TBCd8aaECP3m"
      }
    },
    {
      "cell_type": "code",
      "source": [
        "#さらに修正後\n",
        "import random\n",
        "\n",
        "a = random.randint(1,100)\n",
        "flag = 1\n",
        "i = 0\n",
        "print(a) # 検証のため追加\n",
        "while flag == 1:\n",
        "    i = i + 1\n",
        "    b = int(input())\n",
        "    if a == b:\n",
        "        flag = 0\n",
        "        print(i, \"回目で当たり!\")\n",
        "    else: # a != b\n",
        "        if i >= 10:\n",
        "            flag = 0\n",
        "            print(\"あなたの負け\")\n",
        "        else: #i<10\n",
        "            if a > b:\n",
        "                print(\"もっと大きい数です\")\n",
        "            else:\n",
        "                print(\"もっと小さい数です\")"
      ],
      "metadata": {
        "id": "nBmolkvPudKk",
        "colab": {
          "base_uri": "https://localhost:8080/"
        },
        "outputId": "64a5eeb4-0cb2-4806-8502-1da786575a87"
      },
      "execution_count": null,
      "outputs": [
        {
          "output_type": "stream",
          "name": "stdout",
          "text": [
            "27\n",
            "25\n",
            "もっと大きい数です\n",
            "28\n",
            "もっと小さい数です\n",
            "27\n",
            "3 回目で当たり!\n"
          ]
        }
      ]
    }
  ]
}