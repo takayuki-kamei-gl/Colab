{
  "nbformat": 4,
  "nbformat_minor": 0,
  "metadata": {
    "colab": {
      "provenance": [],
      "authorship_tag": "ABX9TyOy+6Yuu3GUxfyNy3klhu4K",
      "include_colab_link": true
    },
    "kernelspec": {
      "name": "python3",
      "display_name": "Python 3"
    },
    "language_info": {
      "name": "python"
    }
  },
  "cells": [
    {
      "cell_type": "markdown",
      "metadata": {
        "id": "view-in-github",
        "colab_type": "text"
      },
      "source": [
        "<a href=\"https://colab.research.google.com/github/takayuki-kamei-gl/Colab/blob/main/41_21%E3%82%B2%E3%83%BC%E3%83%A0.ipynb\" target=\"_parent\"><img src=\"https://colab.research.google.com/assets/colab-badge.svg\" alt=\"Open In Colab\"/></a>"
      ]
    },
    {
      "cell_type": "code",
      "execution_count": null,
      "metadata": {
        "id": "GgVl5GfFgvQZ"
      },
      "outputs": [],
      "source": [
        "import random\n",
        "\n",
        "max =21\n",
        "goukei = 0\n",
        "while goukei < max:\n",
        "    a = int(input())\n",
        "    goukei = goukei + a\n",
        "    print(\"今の数は \", goukei)\n",
        "    if goukei >= max:\n",
        "        print(max, \"以上になったのであなたの負け\")\n",
        "    else:\n",
        "        b = random.randint(1,3)\n",
        "        goukei = goukei + b\n",
        "        print(\"コンピュータの選んだ数は\", b)\n",
        "        print(\"今の数は \", goukei)\n",
        "        if goukei >= max:\n",
        "            print(max, \"以上になったのでコンピュータの負け\")"
      ]
    },
    {
      "cell_type": "markdown",
      "source": [
        "プログラムの7行目ではプレイヤーは1から3以外の数を入れることが可能である。\n",
        "\n",
        "そうならないような手立てを考え、プログラムを修正しなさい。例えば、\n",
        "\n",
        "\n",
        "*   エラーにして終了させてしまう\n",
        "*   正しい数字が入るまで繰り返し入力を促す\n",
        "\n",
        "など考えられます。（制限時間５分）\n",
        "\n"
      ],
      "metadata": {
        "id": "-8EadfvlV2t4"
      }
    },
    {
      "cell_type": "code",
      "source": [
        "import random\n",
        "\n",
        "max =21\n",
        "goukei = 0\n",
        "while goukei < max:\n",
        "    a = int(input())\n",
        "    goukei = goukei + a\n",
        "    print(\"今の数は \", goukei)\n",
        "    if goukei >= max:\n",
        "        print(max, \"以上になったのであなたの負け\")\n",
        "    else:\n",
        "        b = random.randint(1,3)\n",
        "        goukei = goukei + b\n",
        "        print(\"コンピュータの選んだ数は\", b)\n",
        "        print(\"今の数は \", goukei)\n",
        "        if goukei >= max:\n",
        "            print(max, \"以上になったのでコンピュータの負け\")"
      ],
      "metadata": {
        "id": "Eb-AOw8QVz8K"
      },
      "execution_count": null,
      "outputs": []
    }
  ]
}